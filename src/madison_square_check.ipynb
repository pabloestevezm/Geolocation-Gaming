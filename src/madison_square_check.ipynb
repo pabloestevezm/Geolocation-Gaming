{
 "cells": [
  {
   "cell_type": "code",
   "execution_count": 1,
   "metadata": {},
   "outputs": [],
   "source": [
    "from pymongo import MongoClient\n",
    "from funcs_code import *"
   ]
  },
  {
   "cell_type": "code",
   "execution_count": 2,
   "metadata": {},
   "outputs": [],
   "source": [
    "client = MongoClient(\"mongodb://localhost/ny_offices\")\n",
    "db = client.get_database()"
   ]
  },
  {
   "cell_type": "code",
   "execution_count": 3,
   "metadata": {},
   "outputs": [],
   "source": [
    "madison_square = geocode('Madison Square Garden, New York')"
   ]
  },
  {
   "cell_type": "code",
   "execution_count": 4,
   "metadata": {},
   "outputs": [
    {
     "data": {
      "text/plain": [
       "{'type': 'Point', 'coordinates': [-73.98659, 40.74242]}"
      ]
     },
     "execution_count": 4,
     "metadata": {},
     "output_type": "execute_result"
    }
   ],
   "source": [
    "madison_square"
   ]
  },
  {
   "cell_type": "code",
   "execution_count": 5,
   "metadata": {},
   "outputs": [
    {
     "data": {
      "text/plain": [
       "[{'name': 'Gilt Groupe',\n",
       "  'description': 'Designer Sample Sales Online',\n",
       "  'address1': '2 Park Ave Fl 4',\n",
       "  'address2': '',\n",
       "  'latitude': 40.74727,\n",
       "  'longitude': -73.9800645,\n",
       "  'geopoint': {'type': 'Point', 'coordinates': [-73.9800645, 40.74727]}},\n",
       " {'name': 'Covet Shop',\n",
       "  'description': 'Online Designer Consignment Boutique',\n",
       "  'address1': '21 East 7th Street',\n",
       "  'address2': '',\n",
       "  'latitude': 40.72874,\n",
       "  'longitude': -73.989324,\n",
       "  'geopoint': {'type': 'Point', 'coordinates': [-73.989324, 40.72874]}},\n",
       " {'name': 'MindSmack',\n",
       "  'description': 'Web design, mobile apps',\n",
       "  'address1': '311 West 43rd Street',\n",
       "  'address2': 'Penthouse',\n",
       "  'latitude': 40.758492,\n",
       "  'longitude': -73.989987,\n",
       "  'geopoint': {'type': 'Point', 'coordinates': [-73.989987, 40.758492]}}]"
      ]
     },
     "execution_count": 5,
     "metadata": {},
     "output_type": "execute_result"
    }
   ],
   "source": [
    "q = db.design_offices.find(geoQueryNear(madison_square, radius=10000),{\"_id\":0, \"company_id\":0})\n",
    "near_design_offices = list(q)\n",
    "near_design_offices"
   ]
  },
  {
   "cell_type": "code",
   "execution_count": 6,
   "metadata": {},
   "outputs": [
    {
     "data": {
      "text/plain": [
       "[{'name': 'StyleCaster',\n",
       "  'description': 'Media and Ad-Tech for fashion & beauty',\n",
       "  'total_money_raised': 5000000.0,\n",
       "  'sec_description': '',\n",
       "  'address1': '49 W 27th St Uppr A',\n",
       "  'address2': '',\n",
       "  'zip_code': '10001-6936',\n",
       "  'city': 'New York City',\n",
       "  'state_code': 'NY',\n",
       "  'country_code': 'USA',\n",
       "  'latitude': 40.7450497,\n",
       "  'longitude': -73.9900984,\n",
       "  'geopoint': {'type': 'Point', 'coordinates': [-73.9900984, 40.7450497]}},\n",
       " {'name': 'appssavvy',\n",
       "  'description': 'activity advertising technology company',\n",
       "  'total_money_raised': 10200000.0,\n",
       "  'sec_description': 'Headquarters',\n",
       "  'address1': '594 Broadway',\n",
       "  'address2': 'Suite 207',\n",
       "  'zip_code': '10012',\n",
       "  'city': 'New York',\n",
       "  'state_code': 'NY',\n",
       "  'country_code': 'USA',\n",
       "  'latitude': 40.724604,\n",
       "  'longitude': -73.996876,\n",
       "  'geopoint': {'type': 'Point', 'coordinates': [-73.996876, 40.724604]}}]"
      ]
     },
     "execution_count": 6,
     "metadata": {},
     "output_type": "execute_result"
    }
   ],
   "source": [
    "query = db.startups_offices.find(geoQueryNear(madison_square, radius=10000),{\"_id\":0, \"company_id\":0})\n",
    "near_offices_ny = list(query)\n",
    "near_offices_ny"
   ]
  },
  {
   "cell_type": "code",
   "execution_count": null,
   "metadata": {},
   "outputs": [],
   "source": []
  }
 ],
 "metadata": {
  "kernelspec": {
   "display_name": "Python 3",
   "language": "python",
   "name": "python3"
  },
  "language_info": {
   "codemirror_mode": {
    "name": "ipython",
    "version": 3
   },
   "file_extension": ".py",
   "mimetype": "text/x-python",
   "name": "python",
   "nbconvert_exporter": "python",
   "pygments_lexer": "ipython3",
   "version": "3.8.2"
  }
 },
 "nbformat": 4,
 "nbformat_minor": 4
}
